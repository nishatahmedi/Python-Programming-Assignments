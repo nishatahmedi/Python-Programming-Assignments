{
 "cells": [
  {
   "cell_type": "markdown",
   "id": "5ce5d865-4e7c-4431-9dc7-67f09b8848de",
   "metadata": {},
   "source": [
    "# Exercise 1: Prime Numbers"
   ]
  },
  {
   "cell_type": "markdown",
   "id": "242dbc7d-bb4b-43cf-89d5-3708a74917c7",
   "metadata": {},
   "source": [
    "## Write a Python program that checks whether a given number is prime or not. A prime number is a natural number greater than 1 that has no positive divisors other than 1 and itself."
   ]
  },
  {
   "cell_type": "code",
   "execution_count": null,
   "id": "450d39c3-436d-4282-aba4-ff2cc049486a",
   "metadata": {
    "scrolled": true
   },
   "outputs": [],
   "source": [
    "def is_prime(n):\n",
    "    if n <= 1:\n",
    "        return False\n",
    "    if n <= 3:\n",
    "        return True\n",
    "    if n % 2 == 0 or n % 3 == 0:\n",
    "        return False\n",
    "    i = 5\n",
    "    while i * i <= n:\n",
    "        if n % i == 0 or n % (i + 2) == 0:\n",
    "            return False\n",
    "        i += 6\n",
    "    return True\n",
    "# Test the function\n",
    "\n",
    "number = int(input(\"Enter a number: \"))\n",
    "if is_prime(number):\n",
    "    print(f\"{number} is a prime number.\")\n",
    "else:\n",
    "    print(f\"{number} is not a prime number.\")\n",
    "    "
   ]
  },
  {
   "cell_type": "markdown",
   "id": "7c92848a-6167-4e2d-a922-a4b5a1e116a8",
   "metadata": {},
   "source": [
    "# Exercise 2: Product of Random Numbers\n",
    "## Develop a Python program that generates two random numbers and asks the user to enter the product of these numbers. The program should then check if the user's answer is correct and display an appropriate message.\n"
   ]
  },
  {
   "cell_type": "code",
   "execution_count": null,
   "id": "decb05b0-bd74-4f1a-bda7-443d6cc1a2ab",
   "metadata": {
    "scrolled": true
   },
   "outputs": [],
   "source": [
    "# # importing the random module\n",
    "import random\n",
    "def multiplication_quiz():  \n",
    "    # Generate two random numbers between 1 and 10\n",
    "     num1 = random.randint(1, 10)  \n",
    "     num2 = random.randint(1, 10) \n",
    "        # Check if the user's answer is correct\n",
    "\n",
    "     correct_answer = num1 * num2  \n",
    "     user_answer = int(input(f\"What is {num1} * {num2}? \"))  \n",
    "     if user_answer == correct_answer:\n",
    "         print(\"Correct! Well done.\")\n",
    "    \n",
    "     else: \n",
    "         \n",
    "          print(f\"Incorrect. The correct answer is {correct_answer}.\")\n",
    "# Run the multiplication quiz\n",
    "\n",
    "multiplication_quiz()\n",
    "\n",
    "\n"
   ]
  },
  {
   "cell_type": "markdown",
   "id": "a59d2115-5508-44c7-af16-6f055c8c71ea",
   "metadata": {},
   "source": [
    "# Exercise 3: Squares of Even/Odd Numbers\n",
    "## Create a Python script that prints the squares of all even or odd numbers within the range of 100 to 200. Choose either even or odd numbers and document your choice in the code.\n"
   ]
  },
  {
   "cell_type": "code",
   "execution_count": null,
   "id": "9818d999-c605-4368-a81f-1c1c13c08d51",
   "metadata": {
    "scrolled": true
   },
   "outputs": [],
   "source": [
    "# This script prints the squares of all even numbers within the range of 100 to 200.\n",
    "\n",
    "def print_squares_of_even_numbers():\n",
    "    # Loop through the range from 100 to 200\n",
    "    for number in range(100, 201):\n",
    "        # Check if the number is even\n",
    "        if number % 2 == 0:\n",
    "            # Print the square of the even number\n",
    "            print(f\"The square of {number} is {number ** 2}\")\n",
    "\n",
    "# Run the function\n",
    "print_squares_of_even_numbers()"
   ]
  },
  {
   "cell_type": "markdown",
   "id": "b094fb7a-2d25-4445-a683-bd77dee2acc5",
   "metadata": {},
   "source": [
    "# Exercise 4: Word counter\n",
    "## write a program to count the number of words in a given text.\n",
    "\n"
   ]
  },
  {
   "cell_type": "code",
   "execution_count": null,
   "id": "a80d25d2-4654-470b-8c06-af37b6913da3",
   "metadata": {},
   "outputs": [],
   "source": [
    "def count_words(input_text):\n",
    "    # Remove punctuation and convert text to lower case for consistent counting\n",
    "    import string\n",
    "    translator = str.maketrans('', '', string.punctuation)\n",
    "    cleaned_text = input_text.translate(translator).lower()\n",
    "    \n",
    "    # Split the text into words\n",
    "    words = cleaned_text.split()\n",
    "    \n",
    "    # Create a dictionary to count the occurrences of each word\n",
    "    word_count = {}\n",
    "    for word in words:\n",
    "        if word in word_count:\n",
    "            word_count[word] += 1\n",
    "        else:\n",
    "            word_count[word] = 1\n",
    "    \n",
    "    # Print the word count\n",
    "    for word, count in word_count.items():\n",
    "        print(f\"'{word}': {count}\")\n",
    "\n",
    "# Sample input text\n",
    "input_text = \"This is a sample text. This text will be used to demonstrate the word counter.\"\n",
    "\n",
    "# Call the function with the sample input text\n",
    "count_words(input_text)"
   ]
  },
  {
   "cell_type": "markdown",
   "id": "bc324070-2db3-4823-8b0a-35fb6ac9f964",
   "metadata": {},
   "source": [
    "# Exercise 5: Check for Palindrome\n",
    "## Write a Python function called is_palindrome that takes a string as input and returns True if the string is a palindrome, and False otherwise. A palindrome is a word, phrase, number, or other sequence of characters that reads the same forward and backward, ignoring spaces, punctuation, and capitalization.\n",
    "Example:\n",
    "Input: \"racecar\"\n",
    "Expected Output: True\n",
    "\n"
   ]
  },
  {
   "cell_type": "code",
   "execution_count": null,
   "id": "01334ab6-6651-4320-b9dc-e8a1e82e2f1a",
   "metadata": {
    "scrolled": true
   },
   "outputs": [],
   "source": [
    "import string\n",
    "\n",
    "def is_palindrome(input_string):\n",
    "    # Remove punctuation, spaces, and convert to lower case\n",
    "    translator = str.maketrans('', '', string.punctuation)\n",
    "    cleaned_string = input_string.translate(translator).replace(\" \", \"\").lower()\n",
    "    \n",
    "    # Check if the cleaned string is equal to its reverse\n",
    "    return cleaned_string == cleaned_string[::-1]\n",
    "\n",
    "# Test cases\n",
    "print(is_palindrome(\"A man, a plan, a canal, Panama\"))  # Should return True\n",
    "print(is_palindrome(\"racecar\"))  # Should return True\n",
    "print(is_palindrome(\"Hello, World!\"))  # Should return False"
   ]
  },
  {
   "cell_type": "code",
   "execution_count": null,
   "id": "c52e7750-2b8e-4b68-9345-0b81f871f738",
   "metadata": {},
   "outputs": [],
   "source": []
  }
 ],
 "metadata": {
  "kernelspec": {
   "display_name": "Python 3 (ipykernel)",
   "language": "python",
   "name": "python3"
  },
  "language_info": {
   "codemirror_mode": {
    "name": "ipython",
    "version": 3
   },
   "file_extension": ".py",
   "mimetype": "text/x-python",
   "name": "python",
   "nbconvert_exporter": "python",
   "pygments_lexer": "ipython3",
   "version": "3.12.3"
  }
 },
 "nbformat": 4,
 "nbformat_minor": 5
}
